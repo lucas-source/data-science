{
  "nbformat": 4,
  "nbformat_minor": 0,
  "metadata": {
    "colab": {
      "name": "Covid19.ipynb",
      "provenance": [],
      "collapsed_sections": [],
      "authorship_tag": "ABX9TyOrchPK4YW6vUj+j3RUJ1X7",
      "include_colab_link": true
    },
    "kernelspec": {
      "name": "python3",
      "display_name": "Python 3"
    },
    "language_info": {
      "name": "python"
    }
  },
  "cells": [
    {
      "cell_type": "markdown",
      "metadata": {
        "id": "view-in-github",
        "colab_type": "text"
      },
      "source": [
        "<a href=\"https://colab.research.google.com/github/lucas-source/data-science/blob/main/Covid19/Covid19.ipynb\" target=\"_parent\"><img src=\"https://colab.research.google.com/assets/colab-badge.svg\" alt=\"Open In Colab\"/></a>"
      ]
    },
    {
      "cell_type": "markdown",
      "metadata": {
        "id": "zlYq8poEpo_3"
      },
      "source": [
        "# Análise dos dados do Coronavírus\n",
        "---\n",
        "[![author](https://img.shields.io/badge/author-lucas-red.svg)](https://www.linkedin.com/in/lucas-rocha-1904a3172/)\n",
        "[![GitHub](https://img.shields.io/badge/GitHub-welcome-brightgreen.svg?style=flat)](https://github.com/lucas-source)\n",
        "\n",
        "<center><img alt=\"Rio de Janeiro\" width=\"50%\" src=\"https://i.pinimg.com/564x/25/6d/ec/256dec5e865f5f2e5a915a479f9bb4e2.jpg\"></center>\n",
        "\n",
        "  A Covid-19 é uma infecção respiratória aguda causada pelo coronavírus SARS-CoV-2, potencialmente grave, de elevada transmissibilidade e de distribuição global.\n",
        "  A covid-19  teve seus primeiros casos apresentados na cidade de Wuhan, capital da província de Hubei, na China, no final do ano de 2019.\n",
        "Esse surgimento repentino da nova doença e a sua chegada em todos os continentes resultaram em um decreto de pandemia mundial, fazendo com que todos os países tivessem de tomar medidas para reduzir o avanço da COVID-19 e proteger seus cidadãos.\n",
        "  Com o objetivo de elevar a consciência situacional a respeito do COVID-19 no mundo e no Brasil, irei realizar uma análise sobre os dados públicos da doença.\n"
      ]
    },
    {
      "cell_type": "markdown",
      "metadata": {
        "id": "_dMJDJqQEe7I"
      },
      "source": [
        "## Obtenção dos Dados\n",
        "\n",
        "Os dados usados foram obtidos a partir de um repositório no \n",
        "[GitHub](https://github.com/owid/covid-19-data/tree/master/public/data), sobre a Covid-19, do [OWID](https://ourworldindata.org/coronavirus) (Our World in Data) que é um conceituada públicação digital especializada em expor pesquisas empíricas e dados analíticos sobre os mais diversos tópicos e assuntos de interesse mundial. Foi criada por Max Roser sob tutela da universidade de Oxford em 2011.\n",
        "Além de utilizar sua própria equipe de coleta de dados, o Our World in Data se valeu de informações coletadas por diversas outras instituições confiáveis ao redor do mundo.\n",
        "É preciso de dizer que, apesar da confiabilidade da fonte de dados utilizada, não existe verdade absoluta. Isso se deve à infinidade de fonte de dados disponíveis e muitas vezes conflitantes a respeito da Covid-19. Por isso, esse estudo deve ser encarado apenas como informativo e não pode ser levado como tomador de decisão sob nenhuma circunstancia.\n"
      ]
    },
    {
      "cell_type": "markdown",
      "metadata": {
        "id": "ox0tX1xlcmNO"
      },
      "source": [
        "## Estrutura do código\n",
        "\n",
        "* Primeira célula(`CovidConstructor`: class)\n",
        ">Classe construtora, visa atender outros tipos de classes que tenham comportamentos diferentes, utilizando as váriaveis definidas.\n",
        "\n",
        "* segunda célula(`InterfacCv`: class, `InterfacPs`: class, `InterfaceBr`: class)\n",
        ">A fim de deixa o código de maneira escalável utilizei o conceito de [Interface](https://realpython.com/python-interface/#using-abstract-method-declaration), que é muito utilizado quando se trata de orientação a objeto.\n",
        "\n",
        "* terceira célula(`CovidStructure`: class) -> (`CovidConstructor`: instance,`InterfacCv`: instance)\n",
        ">Classe criada para apresentar toda a estrutura do DataFrame.\n",
        "\n",
        "* quarta célula(`InfoCoutries`: class,`InfoBrasil`: class )->(`CovidConstructor`: instance, `InterfacPs`: class, `InterfaceBr`: instance)\n",
        ">Classe criada para plotagem de gráfico."
      ]
    },
    {
      "cell_type": "code",
      "metadata": {
        "id": "ZXCu2D2dOu2W"
      },
      "source": [
        "import pandas as pd\n",
        "\n",
        "\n",
        "class CovidConstructor:\n",
        "\n",
        "    def __init__(self) -> None:\n",
        "        self.df = pd.read_csv(\"https://raw.githubusercontent.com/owid/covid-19-data/master/public/data/owid-covid-data.csv\")\n",
        "        self.df['date'] = pd.to_datetime(self.df['date'])\n",
        "        self.gear = {}\n",
        "        pd.set_option('display.max_columns', None)\n",
        "        pd.set_option('display.max_rows', None)\n",
        "        return\n"
      ],
      "execution_count": 1,
      "outputs": []
    },
    {
      "cell_type": "code",
      "metadata": {
        "id": "88lAWaJXWydg"
      },
      "source": [
        "from abc import ABC, abstractmethod\n",
        "import inspect\n",
        "\n",
        "\n",
        "class InterfacCv(ABC):\n",
        "\n",
        "    @abstractmethod\n",
        "    def to_present(self) -> None:\n",
        "        raise Exception(f\"must implement the method: {inspect.stack()[0].function}\")\n",
        "\n",
        "    @abstractmethod\n",
        "    def structure(self) -> None:\n",
        "        raise Exception(f\"must implement the method: {inspect.stack()[0].function}\")\n",
        "\n",
        "    @abstractmethod\n",
        "    def missing_values(self) -> None:\n",
        "        raise Exception(f\"must implement the method: {inspect.stack()[0].function}\")\n",
        "\n",
        "    @abstractmethod\n",
        "    def data_analysis(self) -> None:\n",
        "        raise Exception(f\"must implement the method: {inspect.stack()[0].function}\")\n",
        "\n",
        "    def tadoido(self) -> None:\n",
        "        raise Exception(f\"must implement the method: {inspect.stack()[0].function}\")\n",
        "\n",
        "\n",
        "class InterfacPs(ABC):\n",
        "\n",
        "    @abstractmethod\n",
        "    def continent_cases(self) -> None:\n",
        "        raise Exception(f\"must implement the method: {inspect.stack()[0].function}\")\n",
        "\n",
        "    @abstractmethod\n",
        "    def country_cases(self, ax2) -> None:\n",
        "        raise Exception(f\"must implement the method: {inspect.stack()[0].function}\")\n",
        "\n",
        "    @abstractmethod\n",
        "    def vaccinations_cases(self) -> None:\n",
        "        raise Exception(f\"must implement the method: {inspect.stack()[0].function}\")\n",
        "\n",
        "\n",
        "class InterfaceBr(ABC):\n",
        "\n",
        "    @abstractmethod\n",
        "    def structure_br(self) -> None:\n",
        "        raise Exception(f\"must implement the method: {inspect.stack()[0].function}\")\n",
        "\n",
        "    @abstractmethod\n",
        "    def graphic_br(self) -> None:\n",
        "        raise Exception(f\"must implement the methodo: {inspect.stack()[0].function}\")\n"
      ],
      "execution_count": 2,
      "outputs": []
    },
    {
      "cell_type": "code",
      "metadata": {
        "id": "P8kNcFjnW3_7"
      },
      "source": [
        "class CovidStructure(CovidConstructor, InterfacCv):\n",
        "\n",
        "    def __init__(self) -> None:\n",
        "        self.consult = None\n",
        "        super().__init__()\n",
        "\n",
        "    def to_present(self, num: int = 5) -> None:\n",
        "        print(self.df.head(num))\n",
        "        return\n",
        "\n",
        "    def structure(self) -> None:\n",
        "        print(f\"Lines: {self.df.shape[0]}\\n\"\n",
        "              f\"Columns: {self.df.shape[1]}\\n\")\n",
        "        print(\"Tipos das variáveis:\")\n",
        "        print(self.df.dtypes)\n",
        "        return\n",
        "\n",
        "    def missing_values(self) -> None:\n",
        "        print((self.df.isnull().sum() / self.df.shape[0]).sort_values(ascending=False))\n",
        "        return\n",
        "\n",
        "    def data_analysis(self) -> None:\n",
        "        print(f\"Data de Início: {self.df['date'].min()}\\n\"\n",
        "              f\"Data de Fim: {self.df['date'].max()}\\n\")\n",
        "        return\n"
      ],
      "execution_count": null,
      "outputs": []
    },
    {
      "cell_type": "code",
      "metadata": {
        "id": "AmOvMEQGXH4s"
      },
      "source": [
        "import pandas as pd\n",
        "import matplotlib.pyplot as plt\n",
        "import seaborn as sns\n",
        "import numpy as np\n",
        "\n",
        "\n",
        "class InfoCoutries(CovidConstructor, InterfacPs):\n",
        "\n",
        "    sns.set()\n",
        "\n",
        "    def __init__(self) -> None:\n",
        "        super().__init__()\n",
        "        return\n",
        "\n",
        "    def continent_cases(self) -> None:\n",
        "        fig, (ax1, ax2) = plt.subplots(nrows=1, ncols=2, figsize=(14, 7))\n",
        "\n",
        "        check = dict(self.df.groupby(self.df['location'])['total_deaths'].max().sort_values(ascending=False)[1:5])\n",
        "        new_data = pd.DataFrame(check, index=[0])\n",
        "        new_data.plot(cmap=plt.get_cmap('cividis'), kind=\"bar\", ax=ax1)\n",
        "        plt.xticks(rotation=50, ha='right')\n",
        "        ax1.set_title('$Continents$ $with$ $more$ $cases$')\n",
        "        ax1.set_xlabel('$places$ $X$')\n",
        "        ax1.set_ylabel('$quantities$ $Y$')\n",
        "        plt.tight_layout()\n",
        "        self.country_cases(ax2)\n",
        "        return\n",
        "\n",
        "    def country_cases(self, ax2) -> None:\n",
        "        country_single = dict(self.df.groupby(self.df['location'])['total_cases'].\n",
        "                              max().sort_values(ascending=False)[4:5])\n",
        "        biggest_countries = dict(self.df.groupby(self.df['location'])['total_cases'].\n",
        "                                 max().sort_values(ascending=False)[7:11])\n",
        "\n",
        "        self.gear.update(country_single)\n",
        "        self.gear.update(biggest_countries)\n",
        "        new_frame = pd.DataFrame(self.gear, index=[0])\n",
        "\n",
        "        new_frame.plot(cmap=plt.get_cmap('bone'), kind=\"bar\", ax=ax2)\n",
        "        ax2.set_title('$Countries$ $with$ $more$ $cases$')\n",
        "        ax2.set_xlabel('$places X$')\n",
        "        ax2.set_ylabel('$quantities Y$')\n",
        "        plt.show()\n",
        "        return\n",
        "\n",
        "    def vaccinations_cases(self) -> None:\n",
        "        vaccinations_single = self.df.groupby(self.df['location'])['total_vaccinations'].max().sort_values(\n",
        "            ascending=False)[2:3]\n",
        "        vacina_countries = self.df.groupby(self.df['location'])['total_vaccinations'].max().sort_values(\n",
        "            ascending=False)[4:5]\n",
        "        vaccinations_eua = self.df.groupby(self.df['location'])['total_vaccinations'].max().sort_values(\n",
        "            ascending=False)[7:8]\n",
        "        \n",
        "        self.gear.update(vaccinations_single)\n",
        "        self.gear.update(vacina_countries)\n",
        "        self.gear.update(vaccinations_eua)\n",
        "\n",
        "        peg = []\n",
        "        for i in self.gear:\n",
        "            peg.append(i)\n",
        "\n",
        "        top1 = self.df.loc[self.df.location == peg[0], \"total_vaccinations\"]\n",
        "        top2 = self.df.loc[self.df.location == peg[1], \"total_vaccinations\"]\n",
        "        top3 = self.df.loc[self.df.location == peg[2], \"total_vaccinations\"]\n",
        "\n",
        "        figure, ax = plt.subplots(figsize=(10, 6))\n",
        "\n",
        "        sns.lineplot(data=self.df, x=self.df.date, y=top1, label=peg[0], color='darkred')\n",
        "        sns.lineplot(data=self.df, x=self.df.date, y=top2, label=peg[1], color='Gold')\n",
        "        sns.lineplot(data=self.df, x=self.df.date, y=top3, label=peg[2], color='mediumblue')\n",
        "        ax.set_title('$top$ $3$ $most$ $vaccinated$ $countries$')\n",
        "        ax.set_xlabel('$Date X$')\n",
        "        ax.set_ylabel('$quantities Y$')\n",
        "        plt.show()\n",
        "        return\n",
        "\n",
        "\n",
        "class InfoBrasil(CovidConstructor, InterfaceBr):\n",
        "\n",
        "    def __init__(self) -> None:\n",
        "        super().__init__()\n",
        "        self.br = self.df.loc[self.df.location == \"Brazil\"].copy()\n",
        "        return\n",
        "\n",
        "    def br_head(self) -> None:\n",
        "        print(self.br.head())\n",
        "\n",
        "    def structure_br(self) -> None:\n",
        "        print(f\"Início: {self.df['date'].min()}\\n\"\n",
        "              f\"Fim: {self.df['date'].max()}\\n\")\n",
        "\n",
        "        first_case = self.br.loc[self.br['new_cases'] != 0.0].head(1)\n",
        "        print(f\"Primeiro caso de covid no Brasil {first_case.date.loc[13811]}\")\n",
        "\n",
        "        print(f\"Até a data desse estudo o Brasil apresenta {self.br['total_cases'].max():,.0f} pessoa infectado covid,\"\n",
        "              f\" e um total de {self.br['total_deaths'].max():,.0f} mortes pelo covid!\")\n",
        "        return\n",
        "\n",
        "    def graphic_br(self) -> None:\n",
        "        x = np.arange(533)\n",
        "        y = self.br.total_vaccinations\n",
        "\n",
        "        fig, ax = plt.subplots(figsize=(10, 4))\n",
        "\n",
        "        sns.regplot(x, y, color=\"g\", ax=ax, x_bins=70)\n",
        "        ax.set_title('$vaccinated$ $in$ $Brazil$')\n",
        "        ax.set_ylabel('$quantities Y$')\n",
        "        plt.tight_layout()\n",
        "        plt.show()\n"
      ],
      "execution_count": 5,
      "outputs": []
    },
    {
      "cell_type": "code",
      "metadata": {
        "colab": {
          "base_uri": "https://localhost:8080/"
        },
        "id": "kzYLtcBtcI3a",
        "outputId": "44fc0a8a-deb9-4ca8-b475-e8ab77df8f79"
      },
      "source": [
        "# Data de início e fim\n",
        "CovidStructure().data_analysis()"
      ],
      "execution_count": null,
      "outputs": [
        {
          "output_type": "stream",
          "text": [
            "Data de Início: 2020-01-01 00:00:00\n",
            "Data de Fim: 2021-08-11 00:00:00\n",
            "\n"
          ],
          "name": "stdout"
        }
      ]
    },
    {
      "cell_type": "code",
      "metadata": {
        "colab": {
          "base_uri": "https://localhost:8080/",
          "height": 509
        },
        "id": "SE2yqQmobqEc",
        "outputId": "a1bd2eae-4239-42b9-8e35-b32a642e22f6"
      },
      "source": [
        "# 1° Gráfico - Continentes com mais casos\n",
        "# 2° Gráfico - Países com mais casos\n",
        "InfoCoutries().continent_cases()"
      ],
      "execution_count": 4,
      "outputs": [
        {
          "output_type": "display_data",
          "data": {
            "image/png": "[encoded data removed]",
            "text/plain": [
              "<Figure size 1008x504 with 2 Axes>"
            ]
          },
          "metadata": {
            "tags": []
          }
        }
      ]
    },
    {
      "cell_type": "code",
      "metadata": {
        "colab": {
          "base_uri": "https://localhost:8080/",
          "height": 412
        },
        "id": "Wt84zGcPbvGe",
        "outputId": "22f72f00-6f05-4a3a-846b-48356b6671ba"
      },
      "source": [
        "# Top 3 países mais vacinados\n",
        "InfoCoutries().vaccinations_cases()"
      ],
      "execution_count": 6,
      "outputs": [
        {
          "output_type": "display_data",
          "data": {
            "image/png": "[encoded data removed]",
            "text/plain": [
              "<Figure size 720x432 with 1 Axes>"
            ]
          },
          "metadata": {
            "tags": []
          }
        }
      ]
    },
    {
      "cell_type": "code",
      "metadata": {
        "colab": {
          "base_uri": "https://localhost:8080/"
        },
        "id": "ZVzzO_Zzbbxd",
        "outputId": "e6a33f18-1852-495e-882a-9f3be9fe36d6"
      },
      "source": [
        "# Verificando o Dataset.\n",
        "CovidStructure().to_present(10)"
      ],
      "execution_count": null,
      "outputs": [
        {
          "output_type": "stream",
          "text": [
            "  iso_code continent     location       date  total_cases  new_cases  \\\n",
            "0      AFG      Asia  Afghanistan 2020-02-24          1.0        1.0   \n",
            "1      AFG      Asia  Afghanistan 2020-02-25          1.0        0.0   \n",
            "2      AFG      Asia  Afghanistan 2020-02-26          1.0        0.0   \n",
            "3      AFG      Asia  Afghanistan 2020-02-27          1.0        0.0   \n",
            "4      AFG      Asia  Afghanistan 2020-02-28          1.0        0.0   \n",
            "5      AFG      Asia  Afghanistan 2020-02-29          1.0        0.0   \n",
            "6      AFG      Asia  Afghanistan 2020-03-01          1.0        0.0   \n",
            "7      AFG      Asia  Afghanistan 2020-03-02          1.0        0.0   \n",
            "8      AFG      Asia  Afghanistan 2020-03-03          2.0        1.0   \n",
            "9      AFG      Asia  Afghanistan 2020-03-04          4.0        2.0   \n",
            "\n",
            "   new_cases_smoothed  total_deaths  new_deaths  new_deaths_smoothed  \\\n",
            "0                 NaN           NaN         NaN                  NaN   \n",
            "1                 NaN           NaN         NaN                  NaN   \n",
            "2                 NaN           NaN         NaN                  NaN   \n",
            "3                 NaN           NaN         NaN                  NaN   \n",
            "4                 NaN           NaN         NaN                  NaN   \n",
            "5               0.143           NaN         NaN                  0.0   \n",
            "6               0.143           NaN         NaN                  0.0   \n",
            "7               0.000           NaN         NaN                  0.0   \n",
            "8               0.143           NaN         NaN                  0.0   \n",
            "9               0.429           NaN         NaN                  0.0   \n",
            "\n",
            "   total_cases_per_million  new_cases_per_million  \\\n",
            "0                    0.026                  0.026   \n",
            "1                    0.026                  0.000   \n",
            "2                    0.026                  0.000   \n",
            "3                    0.026                  0.000   \n",
            "4                    0.026                  0.000   \n",
            "5                    0.026                  0.000   \n",
            "6                    0.026                  0.000   \n",
            "7                    0.026                  0.000   \n",
            "8                    0.051                  0.026   \n",
            "9                    0.103                  0.051   \n",
            "\n",
            "   new_cases_smoothed_per_million  total_deaths_per_million  \\\n",
            "0                             NaN                       NaN   \n",
            "1                             NaN                       NaN   \n",
            "2                             NaN                       NaN   \n",
            "3                             NaN                       NaN   \n",
            "4                             NaN                       NaN   \n",
            "5                           0.004                       NaN   \n",
            "6                           0.004                       NaN   \n",
            "7                           0.000                       NaN   \n",
            "8                           0.004                       NaN   \n",
            "9                           0.011                       NaN   \n",
            "\n",
            "   new_deaths_per_million  new_deaths_smoothed_per_million  reproduction_rate  \\\n",
            "0                     NaN                              NaN                NaN   \n",
            "1                     NaN                              NaN                NaN   \n",
            "2                     NaN                              NaN                NaN   \n",
            "3                     NaN                              NaN                NaN   \n",
            "4                     NaN                              NaN                NaN   \n",
            "5                     NaN                              0.0                NaN   \n",
            "6                     NaN                              0.0                NaN   \n",
            "7                     NaN                              0.0                NaN   \n",
            "8                     NaN                              0.0                NaN   \n",
            "9                     NaN                              0.0                NaN   \n",
            "\n",
            "   icu_patients  icu_patients_per_million  hosp_patients  \\\n",
            "0           NaN                       NaN            NaN   \n",
            "1           NaN                       NaN            NaN   \n",
            "2           NaN                       NaN            NaN   \n",
            "3           NaN                       NaN            NaN   \n",
            "4           NaN                       NaN            NaN   \n",
            "5           NaN                       NaN            NaN   \n",
            "6           NaN                       NaN            NaN   \n",
            "7           NaN                       NaN            NaN   \n",
            "8           NaN                       NaN            NaN   \n",
            "9           NaN                       NaN            NaN   \n",
            "\n",
            "   hosp_patients_per_million  weekly_icu_admissions  \\\n",
            "0                        NaN                    NaN   \n",
            "1                        NaN                    NaN   \n",
            "2                        NaN                    NaN   \n",
            "3                        NaN                    NaN   \n",
            "4                        NaN                    NaN   \n",
            "5                        NaN                    NaN   \n",
            "6                        NaN                    NaN   \n",
            "7                        NaN                    NaN   \n",
            "8                        NaN                    NaN   \n",
            "9                        NaN                    NaN   \n",
            "\n",
            "   weekly_icu_admissions_per_million  weekly_hosp_admissions  \\\n",
            "0                                NaN                     NaN   \n",
            "1                                NaN                     NaN   \n",
            "2                                NaN                     NaN   \n",
            "3                                NaN                     NaN   \n",
            "4                                NaN                     NaN   \n",
            "5                                NaN                     NaN   \n",
            "6                                NaN                     NaN   \n",
            "7                                NaN                     NaN   \n",
            "8                                NaN                     NaN   \n",
            "9                                NaN                     NaN   \n",
            "\n",
            "   weekly_hosp_admissions_per_million  new_tests  total_tests  \\\n",
            "0                                 NaN        NaN          NaN   \n",
            "1                                 NaN        NaN          NaN   \n",
            "2                                 NaN        NaN          NaN   \n",
            "3                                 NaN        NaN          NaN   \n",
            "4                                 NaN        NaN          NaN   \n",
            "5                                 NaN        NaN          NaN   \n",
            "6                                 NaN        NaN          NaN   \n",
            "7                                 NaN        NaN          NaN   \n",
            "8                                 NaN        NaN          NaN   \n",
            "9                                 NaN        NaN          NaN   \n",
            "\n",
            "   total_tests_per_thousand  new_tests_per_thousand  new_tests_smoothed  \\\n",
            "0                       NaN                     NaN                 NaN   \n",
            "1                       NaN                     NaN                 NaN   \n",
            "2                       NaN                     NaN                 NaN   \n",
            "3                       NaN                     NaN                 NaN   \n",
            "4                       NaN                     NaN                 NaN   \n",
            "5                       NaN                     NaN                 NaN   \n",
            "6                       NaN                     NaN                 NaN   \n",
            "7                       NaN                     NaN                 NaN   \n",
            "8                       NaN                     NaN                 NaN   \n",
            "9                       NaN                     NaN                 NaN   \n",
            "\n",
            "   new_tests_smoothed_per_thousand  positive_rate  tests_per_case tests_units  \\\n",
            "0                              NaN            NaN             NaN         NaN   \n",
            "1                              NaN            NaN             NaN         NaN   \n",
            "2                              NaN            NaN             NaN         NaN   \n",
            "3                              NaN            NaN             NaN         NaN   \n",
            "4                              NaN            NaN             NaN         NaN   \n",
            "5                              NaN            NaN             NaN         NaN   \n",
            "6                              NaN            NaN             NaN         NaN   \n",
            "7                              NaN            NaN             NaN         NaN   \n",
            "8                              NaN            NaN             NaN         NaN   \n",
            "9                              NaN            NaN             NaN         NaN   \n",
            "\n",
            "   total_vaccinations  people_vaccinated  people_fully_vaccinated  \\\n",
            "0                 NaN                NaN                      NaN   \n",
            "1                 NaN                NaN                      NaN   \n",
            "2                 NaN                NaN                      NaN   \n",
            "3                 NaN                NaN                      NaN   \n",
            "4                 NaN                NaN                      NaN   \n",
            "5                 NaN                NaN                      NaN   \n",
            "6                 NaN                NaN                      NaN   \n",
            "7                 NaN                NaN                      NaN   \n",
            "8                 NaN                NaN                      NaN   \n",
            "9                 NaN                NaN                      NaN   \n",
            "\n",
            "   new_vaccinations  new_vaccinations_smoothed  \\\n",
            "0               NaN                        NaN   \n",
            "1               NaN                        NaN   \n",
            "2               NaN                        NaN   \n",
            "3               NaN                        NaN   \n",
            "4               NaN                        NaN   \n",
            "5               NaN                        NaN   \n",
            "6               NaN                        NaN   \n",
            "7               NaN                        NaN   \n",
            "8               NaN                        NaN   \n",
            "9               NaN                        NaN   \n",
            "\n",
            "   total_vaccinations_per_hundred  people_vaccinated_per_hundred  \\\n",
            "0                             NaN                            NaN   \n",
            "1                             NaN                            NaN   \n",
            "2                             NaN                            NaN   \n",
            "3                             NaN                            NaN   \n",
            "4                             NaN                            NaN   \n",
            "5                             NaN                            NaN   \n",
            "6                             NaN                            NaN   \n",
            "7                             NaN                            NaN   \n",
            "8                             NaN                            NaN   \n",
            "9                             NaN                            NaN   \n",
            "\n",
            "   people_fully_vaccinated_per_hundred  new_vaccinations_smoothed_per_million  \\\n",
            "0                                  NaN                                    NaN   \n",
            "1                                  NaN                                    NaN   \n",
            "2                                  NaN                                    NaN   \n",
            "3                                  NaN                                    NaN   \n",
            "4                                  NaN                                    NaN   \n",
            "5                                  NaN                                    NaN   \n",
            "6                                  NaN                                    NaN   \n",
            "7                                  NaN                                    NaN   \n",
            "8                                  NaN                                    NaN   \n",
            "9                                  NaN                                    NaN   \n",
            "\n",
            "   stringency_index  population  population_density  median_age  \\\n",
            "0              8.33  38928341.0              54.422        18.6   \n",
            "1              8.33  38928341.0              54.422        18.6   \n",
            "2              8.33  38928341.0              54.422        18.6   \n",
            "3              8.33  38928341.0              54.422        18.6   \n",
            "4              8.33  38928341.0              54.422        18.6   \n",
            "5              8.33  38928341.0              54.422        18.6   \n",
            "6             27.78  38928341.0              54.422        18.6   \n",
            "7             27.78  38928341.0              54.422        18.6   \n",
            "8             27.78  38928341.0              54.422        18.6   \n",
            "9             27.78  38928341.0              54.422        18.6   \n",
            "\n",
            "   aged_65_older  aged_70_older  gdp_per_capita  extreme_poverty  \\\n",
            "0          2.581          1.337        1803.987              NaN   \n",
            "1          2.581          1.337        1803.987              NaN   \n",
            "2          2.581          1.337        1803.987              NaN   \n",
            "3          2.581          1.337        1803.987              NaN   \n",
            "4          2.581          1.337        1803.987              NaN   \n",
            "5          2.581          1.337        1803.987              NaN   \n",
            "6          2.581          1.337        1803.987              NaN   \n",
            "7          2.581          1.337        1803.987              NaN   \n",
            "8          2.581          1.337        1803.987              NaN   \n",
            "9          2.581          1.337        1803.987              NaN   \n",
            "\n",
            "   cardiovasc_death_rate  diabetes_prevalence  female_smokers  male_smokers  \\\n",
            "0                597.029                 9.59             NaN           NaN   \n",
            "1                597.029                 9.59             NaN           NaN   \n",
            "2                597.029                 9.59             NaN           NaN   \n",
            "3                597.029                 9.59             NaN           NaN   \n",
            "4                597.029                 9.59             NaN           NaN   \n",
            "5                597.029                 9.59             NaN           NaN   \n",
            "6                597.029                 9.59             NaN           NaN   \n",
            "7                597.029                 9.59             NaN           NaN   \n",
            "8                597.029                 9.59             NaN           NaN   \n",
            "9                597.029                 9.59             NaN           NaN   \n",
            "\n",
            "   handwashing_facilities  hospital_beds_per_thousand  life_expectancy  \\\n",
            "0                  37.746                         0.5            64.83   \n",
            "1                  37.746                         0.5            64.83   \n",
            "2                  37.746                         0.5            64.83   \n",
            "3                  37.746                         0.5            64.83   \n",
            "4                  37.746                         0.5            64.83   \n",
            "5                  37.746                         0.5            64.83   \n",
            "6                  37.746                         0.5            64.83   \n",
            "7                  37.746                         0.5            64.83   \n",
            "8                  37.746                         0.5            64.83   \n",
            "9                  37.746                         0.5            64.83   \n",
            "\n",
            "   human_development_index  excess_mortality  \n",
            "0                    0.511               NaN  \n",
            "1                    0.511               NaN  \n",
            "2                    0.511               NaN  \n",
            "3                    0.511               NaN  \n",
            "4                    0.511               NaN  \n",
            "5                    0.511               NaN  \n",
            "6                    0.511               NaN  \n",
            "7                    0.511               NaN  \n",
            "8                    0.511               NaN  \n",
            "9                    0.511               NaN  \n"
          ],
          "name": "stdout"
        }
      ]
    },
    {
      "cell_type": "code",
      "metadata": {
        "colab": {
          "base_uri": "https://localhost:8080/"
        },
        "id": "cPx6w1XSbfEf",
        "outputId": "97ad3a82-a564-4307-dd7c-cfa82f897afa"
      },
      "source": [
        "# 1° Num. de linhas e colunas\n",
        "# 2° Tipos das variáveis\n",
        "CovidStructure().structure()"
      ],
      "execution_count": null,
      "outputs": [
        {
          "output_type": "stream",
          "text": [
            "Lines: 108888\n",
            "Columns: 60\n",
            "\n",
            "Tipos das variáveis:\n",
            "iso_code                                         object\n",
            "continent                                        object\n",
            "location                                         object\n",
            "date                                     datetime64[ns]\n",
            "total_cases                                     float64\n",
            "new_cases                                       float64\n",
            "new_cases_smoothed                              float64\n",
            "total_deaths                                    float64\n",
            "new_deaths                                      float64\n",
            "new_deaths_smoothed                             float64\n",
            "total_cases_per_million                         float64\n",
            "new_cases_per_million                           float64\n",
            "new_cases_smoothed_per_million                  float64\n",
            "total_deaths_per_million                        float64\n",
            "new_deaths_per_million                          float64\n",
            "new_deaths_smoothed_per_million                 float64\n",
            "reproduction_rate                               float64\n",
            "icu_patients                                    float64\n",
            "icu_patients_per_million                        float64\n",
            "hosp_patients                                   float64\n",
            "hosp_patients_per_million                       float64\n",
            "weekly_icu_admissions                           float64\n",
            "weekly_icu_admissions_per_million               float64\n",
            "weekly_hosp_admissions                          float64\n",
            "weekly_hosp_admissions_per_million              float64\n",
            "new_tests                                       float64\n",
            "total_tests                                     float64\n",
            "total_tests_per_thousand                        float64\n",
            "new_tests_per_thousand                          float64\n",
            "new_tests_smoothed                              float64\n",
            "new_tests_smoothed_per_thousand                 float64\n",
            "positive_rate                                   float64\n",
            "tests_per_case                                  float64\n",
            "tests_units                                      object\n",
            "total_vaccinations                              float64\n",
            "people_vaccinated                               float64\n",
            "people_fully_vaccinated                         float64\n",
            "new_vaccinations                                float64\n",
            "new_vaccinations_smoothed                       float64\n",
            "total_vaccinations_per_hundred                  float64\n",
            "people_vaccinated_per_hundred                   float64\n",
            "people_fully_vaccinated_per_hundred             float64\n",
            "new_vaccinations_smoothed_per_million           float64\n",
            "stringency_index                                float64\n",
            "population                                      float64\n",
            "population_density                              float64\n",
            "median_age                                      float64\n",
            "aged_65_older                                   float64\n",
            "aged_70_older                                   float64\n",
            "gdp_per_capita                                  float64\n",
            "extreme_poverty                                 float64\n",
            "cardiovasc_death_rate                           float64\n",
            "diabetes_prevalence                             float64\n",
            "female_smokers                                  float64\n",
            "male_smokers                                    float64\n",
            "handwashing_facilities                          float64\n",
            "hospital_beds_per_thousand                      float64\n",
            "life_expectancy                                 float64\n",
            "human_development_index                         float64\n",
            "excess_mortality                                float64\n",
            "dtype: object\n"
          ],
          "name": "stdout"
        }
      ]
    },
    {
      "cell_type": "code",
      "metadata": {
        "colab": {
          "base_uri": "https://localhost:8080/"
        },
        "id": "RVbn-_rNbiT8",
        "outputId": "b20fed89-3e93-444d-f3fa-a58703a62f45"
      },
      "source": [
        "# Porcentagem dos valores faltantes das colunas\n",
        "CovidStructure().missing_values()"
      ],
      "execution_count": null,
      "outputs": [
        {
          "output_type": "stream",
          "text": [
            "weekly_icu_admissions                    0.990871\n",
            "weekly_icu_admissions_per_million        0.990871\n",
            "weekly_hosp_admissions                   0.982560\n",
            "weekly_hosp_admissions_per_million       0.982560\n",
            "excess_mortality                         0.964973\n",
            "icu_patients                             0.897252\n",
            "icu_patients_per_million                 0.897252\n",
            "hosp_patients                            0.875781\n",
            "hosp_patients_per_million                0.875781\n",
            "people_fully_vaccinated_per_hundred      0.839284\n",
            "people_fully_vaccinated                  0.839284\n",
            "new_vaccinations                         0.836832\n",
            "people_vaccinated                        0.811954\n",
            "people_vaccinated_per_hundred            0.811954\n",
            "total_vaccinations_per_hundred           0.803486\n",
            "total_vaccinations                       0.803486\n",
            "new_vaccinations_smoothed_per_million    0.653066\n",
            "new_vaccinations_smoothed                0.653066\n",
            "total_tests                              0.561035\n",
            "total_tests_per_thousand                 0.561035\n",
            "new_tests_per_thousand                   0.558445\n",
            "new_tests                                0.558445\n",
            "handwashing_facilities                   0.551897\n",
            "tests_per_case                           0.520774\n",
            "positive_rate                            0.514970\n",
            "new_tests_smoothed_per_thousand          0.481596\n",
            "new_tests_smoothed                       0.481596\n",
            "tests_units                              0.465166\n",
            "extreme_poverty                          0.399098\n",
            "male_smokers                             0.313074\n",
            "female_smokers                           0.302898\n",
            "reproduction_rate                        0.195577\n",
            "hospital_beds_per_thousand               0.188175\n",
            "stringency_index                         0.168953\n",
            "total_deaths_per_million                 0.143496\n",
            "new_deaths_per_million                   0.142073\n",
            "total_deaths                             0.138546\n",
            "new_deaths                               0.137123\n",
            "aged_65_older                            0.120821\n",
            "aged_70_older                            0.115780\n",
            "median_age                               0.110885\n",
            "cardiovasc_death_rate                    0.107872\n",
            "gdp_per_capita                           0.107073\n",
            "human_development_index                  0.106917\n",
            "diabetes_prevalence                      0.083113\n",
            "population_density                       0.072937\n",
            "new_deaths_smoothed_per_million          0.057178\n",
            "new_cases_smoothed_per_million           0.057178\n",
            "new_deaths_smoothed                      0.052155\n",
            "new_cases_smoothed                       0.052155\n",
            "life_expectancy                          0.050915\n",
            "new_cases_per_million                    0.047948\n",
            "total_cases_per_million                  0.047921\n",
            "continent                                0.046268\n",
            "new_cases                                0.042879\n",
            "total_cases                              0.042851\n",
            "population                               0.006585\n",
            "location                                 0.000000\n",
            "date                                     0.000000\n",
            "iso_code                                 0.000000\n",
            "dtype: float64\n"
          ],
          "name": "stdout"
        }
      ]
    },
    {
      "cell_type": "markdown",
      "metadata": {
        "id": "_6ihRdzjiAh2"
      },
      "source": [
        "## Análise Exploratória do Brasil\n",
        "\n",
        "Agora que já temos uma noção dos acontecimentos no mundo, vamos focar nos acontecimentos no Brasil."
      ]
    },
    {
      "cell_type": "code",
      "metadata": {
        "colab": {
          "base_uri": "https://localhost:8080/"
        },
        "id": "uDrWQUq5bzg5",
        "outputId": "7a65b335-4200-4b3a-cf2a-4e51a613a65b"
      },
      "source": [
        "InfoBrasil().structure_br()"
      ],
      "execution_count": null,
      "outputs": [
        {
          "output_type": "stream",
          "text": [
            "Início: 2020-01-01 00:00:00\n",
            "Fim: 2021-08-11 00:00:00\n",
            "\n",
            "Primeiro caso de covid no Brasil 2020-02-26 00:00:00\n",
            "Até a data desse estudo o Brasil apresenta 20,245,085 pessoa infectado covid, e um total de 565,748 mortes pelo covid!\n"
          ],
          "name": "stdout"
        }
      ]
    },
    {
      "cell_type": "code",
      "metadata": {
        "colab": {
          "base_uri": "https://localhost:8080/",
          "height": 349
        },
        "id": "gsPYtzpdb2qu",
        "outputId": "f7de51b5-b870-4e57-ded6-bc2ed5e05999"
      },
      "source": [
        "InfoBrasil().graphic_br()"
      ],
      "execution_count": null,
      "outputs": [
        {
          "output_type": "stream",
          "text": [
            "/usr/local/lib/python3.7/dist-packages/seaborn/_decorators.py:43: FutureWarning: Pass the following variables as keyword args: x, y. From version 0.12, the only valid positional argument will be `data`, and passing other arguments without an explicit keyword will result in an error or misinterpretation.\n",
            "  FutureWarning\n"
          ],
          "name": "stderr"
        },
        {
          "output_type": "display_data",
          "data": {
            "image/png": "[encoded data removed]",
            "text/plain": [
              "<Figure size 720x288 with 1 Axes>"
            ]
          },
          "metadata": {
            "tags": []
          }
        }
      ]
    }
  ]
}