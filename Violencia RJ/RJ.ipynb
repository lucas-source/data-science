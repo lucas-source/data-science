{
  "nbformat": 4,
  "nbformat_minor": 0,
  "metadata": {
    "colab": {
      "name": "RJ.ipynb",
      "provenance": [],
      "authorship_tag": "ABX9TyM4fcEDV40bnTvKOp4u0wLG",
      "include_colab_link": true
    },
    "kernelspec": {
      "name": "python3",
      "display_name": "Python 3"
    },
    "language_info": {
      "name": "python"
    }
  },
  "cells": [
    {
      "cell_type": "markdown",
      "metadata": {
        "id": "view-in-github",
        "colab_type": "text"
      },
      "source": [
        "<a href=\"https://colab.research.google.com/github/lucas-source/data-science/blob/main/Violencia%20RJ/RJ.ipynb\" target=\"_parent\"><img src=\"https://colab.research.google.com/assets/colab-badge.svg\" alt=\"Open In Colab\"/></a>"
      ]
    },
    {
      "cell_type": "markdown",
      "metadata": {
        "id": "UiNj0DEAG_LT"
      },
      "source": [
        "# Analisando a Violência no Rio de Janeiro\n",
        "---\n",
        "[![author](https://img.shields.io/badge/author-lucas-red.svg)](https://www.linkedin.com/in/lucas-rocha-1904a3172/)\n",
        "[![GitHub](https://img.shields.io/badge/GitHub-welcome-brightgreen.svg?style=flat)](https://github.com/lucas-source)\n",
        "\n",
        "\n",
        "<center><img alt=\"Rio de Janeiro\" width=\"40%\" src=\"https://i.pinimg.com/564x/28/8c/af/288caf110acb9bf5df853a75827c3100.jpg\"></center>\n",
        "\n",
        "  O Rio de Janeiro (RJ) localizado na região sudeste do Brasil é considerada como a \"Cidade Maravilhosa\" por suas praias, \n",
        "clima e beleza natural, entre as montanhas e o mar.\n",
        "Apesar das maravilhas do Rio De janeiro, o estado tem altos índices de criminalidade que assola o estado.\n",
        "A violência e o tráfico no RJ vem sendo pauta de noticiários diariamente na qual vem assustando cada dia mais moradores e turistas.\n",
        "\n",
        "Nesse projeto faremos uma análise exploratória em cima dos dados disponibilizados pelo [portal ISPDados](http://www.ispdados.rj.gov.br/).\n"
      ]
    },
    {
      "cell_type": "markdown",
      "metadata": {
        "id": "BBLTk8pEJ-6e"
      },
      "source": [
        "## Obtenção dos Dados\n",
        "\n",
        "Os dados foram obtidos diretamente do portal ISPDados, que é uma página de Dados Abertos do Instituto de Segurança Pública do Rio de Janeiro.\n",
        "\n",
        "As estatísticas divulgadas no portal são construídas a partir dos Registros de Ocorrência (RO) lavrados nas delegacias de Polícia Civil do Estado do Rio de Janeiro, além de informações complementares de órgãos específicos da Polícia Militar do Estado do Rio de Janeiro.\n",
        "No caso do *dataset* a ser utilizado aqui, o arquivo `csv` pode ser baixado diretamente [neste link](https://raw.githubusercontent.com/carlosfab/dsnp2/master/datasets/violencia_rio.csv).\n",
        "\n",
        "<lef><img alt=\"Rio de Janeiro\" width=\"20%\" src=\"https://basedosdados.org/uploads/group/2019-12-09-003405.576992institutosegurancapublica.jpg\"></left> "
      ]
    },
    {
      "cell_type": "markdown",
      "metadata": {
        "id": "18RldU2AO28T"
      },
      "source": [
        "## Estrutura do código\n",
        "\n",
        "* Primeira célula(`RioDeJaneiro`: class)\n",
        ">Classe construtora, visa atender outros tipos de classes que tenham comportamentos diferentes, utilizando as váriaveis definidas.\n",
        "\n",
        "* segunda célula(`InterfaceShape`: class, `InterfacePlot`: class)\n",
        ">A fim de deixa o código de maneira escalável utilizei o conceito de [Interface](https://realpython.com/python-interface/#using-abstract-method-declaration), que é muito utilizado quando se trata de orientação a objeto.\n",
        "\n",
        "* terceira célula(`ShapeRio`: class) -> (`RioDeJaneiro`: instance,`InterfaceShape`: instance)\n",
        ">Classe criada para apresentar toda a estrutura do DataFrame.\n",
        "\n",
        "* quarta célula(`PlotRio`: class)->(`RioDeJaneiro`: instance, `InterfacePlot`: instance)\n",
        ">Classe criada para plotagem de gráfico."
      ]
    },
    {
      "cell_type": "code",
      "metadata": {
        "id": "Rr0C0Gh6YctR"
      },
      "source": [
        "import pandas as pd\n",
        "import matplotlib.pyplot as plt\n",
        "\n",
        "class RioDeJaneiro:\n",
        "\n",
        "        def __init__(self) -> None:\n",
        "            \"\"\"\n",
        "            self.data_path : 'csv file'\n",
        "            self.df : 'dataframe'\n",
        "            self.fig : 'defined the size of the figure to be plotted'\n",
        "            \"\"\"\n",
        "            self.data_path = \"https://raw.githubusercontent.com/carlosfab/dsnp2/master/datasets/violencia_rio.csv\"\n",
        "            self.df = pd.read_csv(self.data_path)\n",
        "            self.fig = plt.figure(figsize=(13, 8))\n",
        "            pd.set_option('display.max_columns', None)\n",
        "            pd.set_option('display.max_rows', None)\n",
        "            return"
      ],
      "execution_count": null,
      "outputs": []
    },
    {
      "cell_type": "code",
      "metadata": {
        "id": "_NaD09AdYu-_"
      },
      "source": [
        "from abc import ABC, abstractmethod\n",
        "\n",
        "\n",
        "class InterfaceShape(ABC):\n",
        "\n",
        "    @abstractmethod\n",
        "    def data_shape(self) -> None:\n",
        "        raise Exception(\"Should impleent comer method\")\n",
        "\n",
        "    def data_header(self) -> None:\n",
        "        raise Exception(\"Should impleent comer method\")\n",
        "\n",
        "    def missing_values(self) -> None:\n",
        "        raise Exception(\"Should impleent comer method\")\n",
        "\n",
        "    def describe(self) -> None:\n",
        "        raise Exception(\"Should impleent comer method\")\n",
        "\n",
        "\n",
        "class InterfacePlot(ABC):\n",
        "\n",
        "    @abstractmethod\n",
        "    def graphic_vehicle_theft(self) -> None:\n",
        "        raise Exception(\"Should impleent comer method\")\n",
        "\n",
        "    def graphic_general_records(self) -> None:\n",
        "        raise Exception(\"Shoul impleent comer method\")\n",
        "\n",
        "    def graphic_trend(self) -> None:\n",
        "        raise Exception(\"Shoul impleent comer method\")\n",
        "\n",
        "    def graphic_manslaughter(self) -> None:\n",
        "        raise Exception(\"Shoul impleent comer method\")    "
      ],
      "execution_count": null,
      "outputs": []
    },
    {
      "cell_type": "code",
      "metadata": {
        "id": "nBEyncBVY9QU"
      },
      "source": [
        "\n",
        "class ShapeRio(RioDeJaneiro, InterfaceShape):\n",
        "\n",
        "    def __init__(self) -> None:\n",
        "        super().__init__()\n",
        "        return\n",
        "\n",
        "    def data_shape(self) -> None:\n",
        "        \"\"\"\n",
        "        -shape\n",
        "        -columns\n",
        "        -type variables\n",
        "        \"\"\"\n",
        "        print(f\"linhas: {self.df.shape[0]}\\n\"\n",
        "              f\"colunas: {self.df.shape[1]}\")\n",
        "        print(self.df.columns)\n",
        "        print(self.df.dtypes)\n",
        "        return\n",
        "\n",
        "    def data_header(self, num: int = 5) -> None:\n",
        "        print(self.df.head(num))\n",
        "        return\n",
        "\n",
        "    def missing_values(self) -> None:\n",
        "        print((self.df.isnull().sum() / self.df.shape[0]).sort_values(ascending=False))\n",
        "\n",
        "    def describe(self) -> None:\n",
        "        print(self.df.describe())\n"
      ],
      "execution_count": null,
      "outputs": []
    },
    {
      "cell_type": "code",
      "metadata": {
        "id": "LKTDK-RvZJC8"
      },
      "source": [
        "\n",
        "class PlotRio(RioDeJaneiro, InterfacePlot):\n",
        "\n",
        "    def __init__(self) -> None:\n",
        "        super().__init__()\n",
        "        return\n",
        "\n",
        "    def graphic_vehicle_theft(self) -> None:\n",
        "        ax = plt.subplot(131)\n",
        "        theft = self.df.mean().sort_values(ascending=False)[4:10]\n",
        "        theft.plot(cmap=plt.get_cmap('Reds'), edgecolor='r', kind=\"bar\", ax=ax)\n",
        "        plt.xticks(rotation=50,  ha='right')\n",
        "        ax.set(title=\"Crimes mais cometidos\")\n",
        "        self.graphic_general_records()\n",
        "        return\n",
        "\n",
        "    def graphic_general_records(self) -> None:\n",
        "        ax = plt.subplot(132)\n",
        "        theft = self.df.mean().sort_values(ascending=False)[0:4]\n",
        "        theft.plot(cmap=plt.get_cmap('twilight'), edgecolor='gray', kind=\"bar\", ax=ax)\n",
        "        plt.xticks(rotation=50, ha='right')\n",
        "        ax.set(title=\"Registros\")\n",
        "        plt.show()\n",
        "        return\n",
        "\n",
        "    def graphic_trend(self) -> None:\n",
        "        ax = plt.subplot()\n",
        "        ax.plot(self.df.sequestro.index, self.df.sequestro, linewidth=1.0, color='red')\n",
        "        ax.set(title=\"Roubo Coletivo\")\n",
        "        plt.show()\n",
        "        return\n",
        "\n",
        "    def graphic_manslaughter(self) -> None:\n",
        "      ax = plt.subplot()\n",
        "      ax.plot(self.df.hom_culposo.index, self.df.hom_culposo, linewidth=1.0, color='red')\n",
        "      ax.set(title=\"Homicídio culposo\")\n",
        "      plt.show()\n",
        "      return\n"
      ],
      "execution_count": null,
      "outputs": []
    },
    {
      "cell_type": "code",
      "metadata": {
        "colab": {
          "base_uri": "https://localhost:8080/",
          "height": 577
        },
        "id": "cCTHdBw0ZN3_",
        "outputId": "909f7098-0d82-4d43-a004-25f921d596cb"
      },
      "source": [
        "# 1° Gráfico - Crimes mais cometidos\n",
        "# 2° Gráfico - Registros das ocorrência \n",
        "PlotRio().graphic_vehicle_theft()"
      ],
      "execution_count": null,
      "outputs": [
        {
          "output_type": "display_data",
          "data": {
            "image/png": "[encoded data removed]",
            "text/plain": [
              "<Figure size 936x576 with 2 Axes>"
            ]
          },
          "metadata": {
            "tags": [],
            "needs_background": "light"
          }
        }
      ]
    },
    {
      "cell_type": "code",
      "metadata": {
        "colab": {
          "base_uri": "https://localhost:8080/",
          "height": 499
        },
        "id": "l2Qf39tieUUb",
        "outputId": "f072f007-c91f-4094-b50e-b703d8a8f6c2"
      },
      "source": [
        "# Gráfico de roubo coletivo\n",
        "PlotRio().graphic_trend()"
      ],
      "execution_count": null,
      "outputs": [
        {
          "output_type": "display_data",
          "data": {
            "image/png": "[encoded data removed]",
            "text/plain": [
              "<Figure size 936x576 with 1 Axes>"
            ]
          },
          "metadata": {
            "tags": [],
            "needs_background": "light"
          }
        }
      ]
    },
    {
      "cell_type": "code",
      "metadata": {
        "colab": {
          "base_uri": "https://localhost:8080/",
          "height": 499
        },
        "id": "WGNzPQtg_U8v",
        "outputId": "659fcf6d-ca51-4f2a-94eb-b4a75e0c5b3b"
      },
      "source": [
        "# Gráfico de homicídio culposo\n",
        "PlotRio().graphic_manslaughter()"
      ],
      "execution_count": null,
      "outputs": [
        {
          "output_type": "display_data",
          "data": {
            "image/png": "[encoded data removed]",
            "text/plain": [
              "<Figure size 936x576 with 1 Axes>"
            ]
          },
          "metadata": {
            "tags": [],
            "needs_background": "light"
          }
        }
      ]
    },
    {
      "cell_type": "code",
      "metadata": {
        "colab": {
          "base_uri": "https://localhost:8080/",
          "height": 1000
        },
        "id": "Mf6vgSIfbwkP",
        "outputId": "b6605ac8-aa38-4bd4-81bf-cd3ba9ba4447"
      },
      "source": [
        "# Estrutura completa do DataFrame\n",
        "# 1° Num. de linhas e colunas\n",
        "# 2° Nome das colunas\n",
        "# 3° Tipos das variáveis\n",
        "ShapeRio().data_shape()"
      ],
      "execution_count": null,
      "outputs": [
        {
          "output_type": "stream",
          "text": [
            "linhas: 344\n",
            "colunas: 56\n",
            "Index(['vano', 'mes', 'hom_doloso', 'lesao_corp_morte', 'latrocinio',\n",
            "       'hom_por_interv_policial', 'tentat_hom', 'lesao_corp_dolosa', 'estupro',\n",
            "       'hom_culposo', 'lesao_corp_culposa', 'roubo_comercio',\n",
            "       'roubo_residencia', 'roubo_veiculo', 'roubo_carga', 'roubo_transeunte',\n",
            "       'roubo_em_coletivo', 'roubo_banco', 'roubo_cx_eletronico',\n",
            "       'roubo_celular', 'roubo_conducao_saque', 'roubo_apos_saque',\n",
            "       'roubo_bicicleta', 'outros_roubos', 'total_roubos', 'furto_veiculos',\n",
            "       'furto_transeunte', 'furto_coletivo', 'furto_celular',\n",
            "       'furto_bicicleta', 'outros_furtos', 'total_furtos', 'sequestro',\n",
            "       'extorsao', 'sequestro_relampago', 'estelionato', 'apreensao_drogas',\n",
            "       'posse_drogas', 'trafico_drogas', 'apreensao_drogas_sem_autor',\n",
            "       'recuperacao_veiculos', 'apf', 'aaapai', 'cmp', 'cmba', 'ameaca',\n",
            "       'pessoas_desaparecidas', 'encontro_cadaver', 'encontro_ossada',\n",
            "       'pol_militares_mortos_serv', 'pol_civis_mortos_serv',\n",
            "       'indicador_letalidade', 'indicador_roubo_rua', 'indicador_roubo_veic',\n",
            "       'registro_ocorrencias', 'fase'],\n",
            "      dtype='object')\n",
            "vano                            int64\n",
            "mes                             int64\n",
            "hom_doloso                      int64\n",
            "lesao_corp_morte              float64\n",
            "latrocinio                      int64\n",
            "hom_por_interv_policial       float64\n",
            "tentat_hom                      int64\n",
            "lesao_corp_dolosa               int64\n",
            "estupro                       float64\n",
            "hom_culposo                   float64\n",
            "lesao_corp_culposa            float64\n",
            "roubo_comercio                  int64\n",
            "roubo_residencia                int64\n",
            "roubo_veiculo                   int64\n",
            "roubo_carga                     int64\n",
            "roubo_transeunte                int64\n",
            "roubo_em_coletivo               int64\n",
            "roubo_banco                     int64\n",
            "roubo_cx_eletronico           float64\n",
            "roubo_celular                 float64\n",
            "roubo_conducao_saque          float64\n",
            "roubo_apos_saque              float64\n",
            "roubo_bicicleta               float64\n",
            "outros_roubos                   int64\n",
            "total_roubos                    int64\n",
            "furto_veiculos                  int64\n",
            "furto_transeunte                int64\n",
            "furto_coletivo                float64\n",
            "furto_celular                 float64\n",
            "furto_bicicleta               float64\n",
            "outros_furtos                   int64\n",
            "total_furtos                    int64\n",
            "sequestro                     float64\n",
            "extorsao                      float64\n",
            "sequestro_relampago           float64\n",
            "estelionato                   float64\n",
            "apreensao_drogas                int64\n",
            "posse_drogas                  float64\n",
            "trafico_drogas                float64\n",
            "apreensao_drogas_sem_autor    float64\n",
            "recuperacao_veiculos            int64\n",
            "apf                           float64\n",
            "aaapai                        float64\n",
            "cmp                           float64\n",
            "cmba                          float64\n",
            "ameaca                        float64\n",
            "pessoas_desaparecidas         float64\n",
            "encontro_cadaver                int64\n",
            "encontro_ossada               float64\n",
            "pol_militares_mortos_serv     float64\n",
            "pol_civis_mortos_serv         float64\n",
            "indicador_letalidade            int64\n",
            "indicador_roubo_rua             int64\n",
            "indicador_roubo_veic            int64\n",
            "registro_ocorrencias          float64\n",
            "fase                            int64\n",
            "dtype: object\n"
          ],
          "name": "stdout"
        },
        {
          "output_type": "display_data",
          "data": {
            "text/plain": [
              "<Figure size 1224x720 with 0 Axes>"
            ]
          },
          "metadata": {
            "tags": []
          }
        }
      ]
    },
    {
      "cell_type": "code",
      "metadata": {
        "colab": {
          "base_uri": "https://localhost:8080/",
          "height": 1000
        },
        "id": "Vs43UqPzcAs4",
        "outputId": "96bcd1a2-eac3-4030-dfae-84577e291a10"
      },
      "source": [
        "# Verificando as linhas do Dataset.\n",
        "# O defult do números de linhas é 5, caso queira que imprima mais ou menos só \n",
        "# passar o numero(int) pelo parametro ex:\n",
        "# 'ShapeRio().data_header(20)'\n",
        "ShapeRio().data_header()"
      ],
      "execution_count": null,
      "outputs": [
        {
          "output_type": "stream",
          "text": [
            "   vano  mes  hom_doloso  lesao_corp_morte  latrocinio  \\\n",
            "0  1991    1         657               NaN          15   \n",
            "1  1991    2         732               NaN          17   \n",
            "2  1991    3         713               NaN          25   \n",
            "3  1991    4         634               NaN          20   \n",
            "4  1991    5         650               NaN          20   \n",
            "\n",
            "   hom_por_interv_policial  tentat_hom  lesao_corp_dolosa  estupro  \\\n",
            "0                      NaN         162               3051      NaN   \n",
            "1                      NaN         175               3421      NaN   \n",
            "2                      NaN         216               3613      NaN   \n",
            "3                      NaN         200               3211      NaN   \n",
            "4                      NaN         146               3051      NaN   \n",
            "\n",
            "   hom_culposo  lesao_corp_culposa  roubo_comercio  roubo_residencia  \\\n",
            "0          NaN                 NaN             350               188   \n",
            "1          NaN                 NaN             357               171   \n",
            "2          NaN                 NaN             443               191   \n",
            "3          NaN                 NaN             425               199   \n",
            "4          NaN                 NaN             553               231   \n",
            "\n",
            "   roubo_veiculo  roubo_carga  roubo_transeunte  roubo_em_coletivo  \\\n",
            "0           1174           63               967                381   \n",
            "1           1097           64               963                432   \n",
            "2           1265           71               963                422   \n",
            "3           1415           81              1186                354   \n",
            "4           1449           82               931                335   \n",
            "\n",
            "   roubo_banco  roubo_cx_eletronico  roubo_celular  roubo_conducao_saque  \\\n",
            "0           37                  NaN            NaN                   NaN   \n",
            "1           35                  NaN            NaN                   NaN   \n",
            "2           43                  NaN            NaN                   NaN   \n",
            "3           36                  NaN            NaN                   NaN   \n",
            "4           27                  NaN            NaN                   NaN   \n",
            "\n",
            "   roubo_apos_saque  roubo_bicicleta  outros_roubos  total_roubos  \\\n",
            "0               NaN              NaN            158          3318   \n",
            "1               NaN              NaN            142          3261   \n",
            "2               NaN              NaN            131          3529   \n",
            "3               NaN              NaN            112          3808   \n",
            "4               NaN              NaN            147          3755   \n",
            "\n",
            "   furto_veiculos  furto_transeunte  furto_coletivo  furto_celular  \\\n",
            "0            2009              1147             NaN            NaN   \n",
            "1            1850              1066             NaN            NaN   \n",
            "2            2084              1062             NaN            NaN   \n",
            "3            2085              1195             NaN            NaN   \n",
            "4            2185               723             NaN            NaN   \n",
            "\n",
            "   furto_bicicleta  outros_furtos  total_furtos  sequestro  extorsao  \\\n",
            "0              NaN           3561          6717        NaN       NaN   \n",
            "1              NaN           3309          6225        NaN       NaN   \n",
            "2              NaN           3573          6719        NaN       NaN   \n",
            "3              NaN           3290          6570        NaN       NaN   \n",
            "4              NaN           3546          6454        NaN       NaN   \n",
            "\n",
            "   sequestro_relampago  estelionato  apreensao_drogas  posse_drogas  \\\n",
            "0                  NaN          NaN               133           NaN   \n",
            "1                  NaN          NaN               127           NaN   \n",
            "2                  NaN          NaN                80           NaN   \n",
            "3                  NaN          NaN               133           NaN   \n",
            "4                  NaN          NaN               163           NaN   \n",
            "\n",
            "   trafico_drogas  apreensao_drogas_sem_autor  recuperacao_veiculos  apf  \\\n",
            "0             NaN                         NaN                   872  NaN   \n",
            "1             NaN                         NaN                   751  NaN   \n",
            "2             NaN                         NaN                   789  NaN   \n",
            "3             NaN                         NaN                   787  NaN   \n",
            "4             NaN                         NaN                   845  NaN   \n",
            "\n",
            "   aaapai  cmp  cmba  ameaca  pessoas_desaparecidas  encontro_cadaver  \\\n",
            "0     NaN  NaN   NaN     NaN                    NaN               217   \n",
            "1     NaN  NaN   NaN     NaN                    NaN               209   \n",
            "2     NaN  NaN   NaN     NaN                    NaN               188   \n",
            "3     NaN  NaN   NaN     NaN                    NaN               140   \n",
            "4     NaN  NaN   NaN     NaN                    NaN                78   \n",
            "\n",
            "   encontro_ossada  pol_militares_mortos_serv  pol_civis_mortos_serv  \\\n",
            "0              NaN                        NaN                    NaN   \n",
            "1              NaN                        NaN                    NaN   \n",
            "2              NaN                        NaN                    NaN   \n",
            "3              NaN                        NaN                    NaN   \n",
            "4              NaN                        NaN                    NaN   \n",
            "\n",
            "   indicador_letalidade  indicador_roubo_rua  indicador_roubo_veic  \\\n",
            "0                   672                 1348                  1174   \n",
            "1                   749                 1395                  1097   \n",
            "2                   738                 1385                  1265   \n",
            "3                   654                 1540                  1415   \n",
            "4                   670                 1266                  1449   \n",
            "\n",
            "   registro_ocorrencias  fase  \n",
            "0                   NaN     3  \n",
            "1                   NaN     3  \n",
            "2                   NaN     3  \n",
            "3                   NaN     3  \n",
            "4                   NaN     3  \n"
          ],
          "name": "stdout"
        },
        {
          "output_type": "display_data",
          "data": {
            "text/plain": [
              "<Figure size 1224x720 with 0 Axes>"
            ]
          },
          "metadata": {
            "tags": []
          }
        }
      ]
    },
    {
      "cell_type": "code",
      "metadata": {
        "colab": {
          "base_uri": "https://localhost:8080/",
          "height": 991
        },
        "id": "R3FDa7ngcfuu",
        "outputId": "604b285f-fb55-4206-9599-ad0fa6e8b28b"
      },
      "source": [
        "# Porcentagem dos valores faltantes das colunas\n",
        "ShapeRio().missing_values()"
      ],
      "execution_count": null,
      "outputs": [
        {
          "output_type": "stream",
          "text": [
            "roubo_bicicleta               0.802326\n",
            "furto_bicicleta               0.802326\n",
            "apreensao_drogas_sem_autor    0.523256\n",
            "posse_drogas                  0.523256\n",
            "apf                           0.523256\n",
            "aaapai                        0.523256\n",
            "cmp                           0.523256\n",
            "trafico_drogas                0.523256\n",
            "cmba                          0.523256\n",
            "sequestro_relampago           0.418605\n",
            "furto_coletivo                0.418605\n",
            "extorsao                      0.418605\n",
            "furto_celular                 0.418605\n",
            "roubo_apos_saque              0.418605\n",
            "roubo_conducao_saque          0.418605\n",
            "roubo_cx_eletronico           0.418605\n",
            "estupro                       0.418605\n",
            "estelionato                   0.418605\n",
            "pol_civis_mortos_serv         0.418605\n",
            "pol_militares_mortos_serv     0.418605\n",
            "pessoas_desaparecidas         0.383721\n",
            "encontro_ossada               0.383721\n",
            "roubo_celular                 0.313953\n",
            "lesao_corp_culposa            0.279070\n",
            "ameaca                        0.279070\n",
            "sequestro                     0.279070\n",
            "lesao_corp_morte              0.279070\n",
            "registro_ocorrencias          0.279070\n",
            "hom_por_interv_policial       0.244186\n",
            "hom_culposo                   0.244186\n",
            "tentat_hom                    0.000000\n",
            "roubo_comercio                0.000000\n",
            "roubo_residencia              0.000000\n",
            "latrocinio                    0.000000\n",
            "lesao_corp_dolosa             0.000000\n",
            "hom_doloso                    0.000000\n",
            "roubo_transeunte              0.000000\n",
            "mes                           0.000000\n",
            "roubo_veiculo                 0.000000\n",
            "roubo_carga                   0.000000\n",
            "fase                          0.000000\n",
            "roubo_em_coletivo             0.000000\n",
            "roubo_banco                   0.000000\n",
            "outros_roubos                 0.000000\n",
            "total_roubos                  0.000000\n",
            "furto_veiculos                0.000000\n",
            "furto_transeunte              0.000000\n",
            "outros_furtos                 0.000000\n",
            "total_furtos                  0.000000\n",
            "apreensao_drogas              0.000000\n",
            "recuperacao_veiculos          0.000000\n",
            "encontro_cadaver              0.000000\n",
            "indicador_letalidade          0.000000\n",
            "indicador_roubo_rua           0.000000\n",
            "indicador_roubo_veic          0.000000\n",
            "vano                          0.000000\n",
            "dtype: float64\n"
          ],
          "name": "stdout"
        },
        {
          "output_type": "display_data",
          "data": {
            "text/plain": [
              "<Figure size 1224x720 with 0 Axes>"
            ]
          },
          "metadata": {
            "tags": []
          }
        }
      ]
    },
    {
      "cell_type": "code",
      "metadata": {
        "colab": {
          "base_uri": "https://localhost:8080/",
          "height": 1000
        },
        "id": "JV2Nco5Dcslk",
        "outputId": "59d6d158-1061-49e9-e5c9-dde43f2543a6"
      },
      "source": [
        "# Imprimir o resultado estatístico do DataFrame\n",
        "ShapeRio().describe()"
      ],
      "execution_count": null,
      "outputs": [
        {
          "output_type": "stream",
          "text": [
            "              vano         mes  hom_doloso  lesao_corp_morte  latrocinio  \\\n",
            "count   344.000000  344.000000  344.000000        248.000000  344.000000   \n",
            "mean   2004.837209    6.453488  504.555233          4.334677   15.668605   \n",
            "std       8.289036    3.447759  113.774481          2.755357    5.861427   \n",
            "min    1991.000000    1.000000  272.000000          0.000000    2.000000   \n",
            "25%    1998.000000    3.000000  413.750000          2.000000   11.000000   \n",
            "50%    2005.000000    6.000000  507.000000          4.000000   15.000000   \n",
            "75%    2012.000000    9.000000  577.250000          6.000000   19.000000   \n",
            "max    2019.000000   12.000000  831.000000         21.000000   36.000000   \n",
            "\n",
            "       hom_por_interv_policial  tentat_hom  lesao_corp_dolosa     estupro  \\\n",
            "count                260.00000  344.000000         344.000000  200.000000   \n",
            "mean                  71.90000  318.267442        5492.799419  369.945000   \n",
            "std                   36.48882  127.606645        1514.220579   94.392434   \n",
            "min                   10.00000  122.000000        2350.000000  188.000000   \n",
            "25%                   41.75000  200.000000        4067.000000  282.000000   \n",
            "50%                   70.00000  318.500000        5830.500000  384.000000   \n",
            "75%                   96.25000  398.250000        6582.500000  441.250000   \n",
            "max                  194.00000  645.000000        9050.000000  561.000000   \n",
            "\n",
            "       hom_culposo  lesao_corp_culposa  roubo_comercio  roubo_residencia  \\\n",
            "count   260.000000          248.000000      344.000000        344.000000   \n",
            "mean    212.119231         3410.762097      455.005814        133.284884   \n",
            "std      54.234700          776.156561      119.765076         44.317963   \n",
            "min     111.000000          848.000000      243.000000         49.000000   \n",
            "25%     176.000000         3040.000000      365.750000        103.750000   \n",
            "50%     203.000000         3372.000000      433.500000        125.000000   \n",
            "75%     236.250000         3733.500000      536.250000        151.250000   \n",
            "max     449.000000         6653.000000      914.000000        300.000000   \n",
            "\n",
            "       roubo_veiculo  roubo_carga  roubo_transeunte  roubo_em_coletivo  \\\n",
            "count     344.000000   344.000000        344.000000         344.000000   \n",
            "mean     2448.697674   340.322674       3418.520349         659.002907   \n",
            "std       789.689559   223.855243       2459.017549         297.622342   \n",
            "min      1097.000000    59.000000        688.000000         281.000000   \n",
            "25%      1889.750000   208.250000       1053.000000         430.750000   \n",
            "50%      2322.000000   285.500000       2788.500000         592.000000   \n",
            "75%      2778.000000   401.250000       5385.250000         784.000000   \n",
            "max      5358.000000  1329.000000       9669.000000        1628.000000   \n",
            "\n",
            "       roubo_banco  roubo_cx_eletronico  roubo_celular  roubo_conducao_saque  \\\n",
            "count   344.000000           200.000000     236.000000            200.000000   \n",
            "mean      9.375000             3.550000     957.974576             11.320000   \n",
            "std      10.564894             2.634808     624.309034              6.404113   \n",
            "min       0.000000             0.000000       0.000000              1.000000   \n",
            "25%       2.000000             2.000000     549.750000              6.000000   \n",
            "50%       4.500000             3.000000     717.500000             10.000000   \n",
            "75%      14.000000             5.000000    1306.750000             15.000000   \n",
            "max      54.000000            12.000000    2626.000000             37.000000   \n",
            "\n",
            "       roubo_apos_saque  roubo_bicicleta  outros_roubos  total_roubos  \\\n",
            "count        200.000000        68.000000     344.000000    344.000000   \n",
            "mean         145.665000        10.808824    1211.223837   9428.119186   \n",
            "std           55.392367         7.767628     800.576723   4578.013053   \n",
            "min           11.000000         0.000000      81.000000   3261.000000   \n",
            "25%          106.000000         2.250000     811.750000   5107.750000   \n",
            "50%          149.500000        13.000000    1154.000000   9243.500000   \n",
            "75%          180.500000        17.000000    1635.000000  11590.500000   \n",
            "max          283.000000        26.000000    3661.000000  23203.000000   \n",
            "\n",
            "       furto_veiculos  furto_transeunte  furto_coletivo  furto_celular  \\\n",
            "count      344.000000        344.000000      200.000000     200.000000   \n",
            "mean      1674.671512       1518.921512      650.230000    1449.175000   \n",
            "std        294.852020        971.853102      268.836273     368.638776   \n",
            "min       1159.000000        322.000000       23.000000     484.000000   \n",
            "25%       1430.500000        732.000000      501.000000    1297.000000   \n",
            "50%       1637.500000       1076.500000      717.500000    1492.500000   \n",
            "75%       1833.250000       2334.250000      860.000000    1731.250000   \n",
            "max       2630.000000       5368.000000     1036.000000    2215.000000   \n",
            "\n",
            "       furto_bicicleta  outros_furtos  total_furtos   sequestro    extorsao  \\\n",
            "count        68.000000     344.000000    344.000000  248.000000  200.000000   \n",
            "mean        124.808824    5994.328488  10433.177326    0.665323  133.265000   \n",
            "std          80.247427    1964.767779   3696.725756    0.959128   43.303821   \n",
            "min           0.000000    2322.000000   4691.000000    0.000000   23.000000   \n",
            "25%           3.750000    3978.000000   6700.250000    0.000000  109.750000   \n",
            "50%         158.000000    6559.000000  10448.500000    0.000000  132.500000   \n",
            "75%         181.500000    7601.500000  13877.500000    1.000000  152.250000   \n",
            "max         243.000000    9880.000000  18003.000000    5.000000  271.000000   \n",
            "\n",
            "       sequestro_relampago  estelionato  apreensao_drogas  posse_drogas  \\\n",
            "count           200.000000   200.000000        344.000000    164.000000   \n",
            "mean              7.755000  2231.860000       1071.930233    609.237805   \n",
            "std               5.089646   772.093064        643.381991    246.307700   \n",
            "min               0.000000   717.000000         80.000000    248.000000   \n",
            "25%               4.750000  1654.500000        714.500000    360.500000   \n",
            "50%               7.000000  2170.500000        979.500000    623.000000   \n",
            "75%              11.000000  2880.500000       1546.000000    763.500000   \n",
            "max              31.000000  3627.000000       2543.000000   1160.000000   \n",
            "\n",
            "       trafico_drogas  apreensao_drogas_sem_autor  recuperacao_veiculos  \\\n",
            "count      164.000000                  164.000000            344.000000   \n",
            "mean       759.146341                  186.146341           1772.238372   \n",
            "std        312.871487                   36.221243            656.761843   \n",
            "min        262.000000                  114.000000            729.000000   \n",
            "25%        426.000000                  160.000000           1276.750000   \n",
            "50%        815.000000                  184.000000           1755.000000   \n",
            "75%       1045.250000                  208.000000           2202.000000   \n",
            "max       1282.000000                  289.000000           3695.000000   \n",
            "\n",
            "               apf       aaapai          cmp        cmba       ameaca  \\\n",
            "count   164.000000   164.000000   164.000000  164.000000   248.000000   \n",
            "mean   2319.585366   568.628049  1255.512195   83.042683  5530.326613   \n",
            "std     650.520866   248.040620   357.035450   62.951374  1100.752625   \n",
            "min    1173.000000   225.000000   628.000000   21.000000  1409.000000   \n",
            "25%    1681.000000   332.500000   950.500000   46.000000  4868.500000   \n",
            "50%    2424.000000   530.000000  1259.000000   58.000000  5455.000000   \n",
            "75%    2905.500000   793.500000  1515.250000   93.000000  6261.750000   \n",
            "max    3425.000000  1114.000000  2314.000000  350.000000  9034.000000   \n",
            "\n",
            "       pessoas_desaparecidas  encontro_cadaver  encontro_ossada  \\\n",
            "count             212.000000        344.000000       212.000000   \n",
            "mean              435.132075         66.261628         3.301887   \n",
            "std                65.353516         34.464519         2.192922   \n",
            "min               236.000000          0.000000         0.000000   \n",
            "25%               390.000000         42.000000         2.000000   \n",
            "50%               427.000000         60.500000         3.000000   \n",
            "75%               481.500000         87.000000         4.000000   \n",
            "max               628.000000        217.000000        13.000000   \n",
            "\n",
            "       pol_militares_mortos_serv  pol_civis_mortos_serv  indicador_letalidade  \\\n",
            "count                 200.000000              200.00000            344.000000   \n",
            "mean                    2.085000                0.34000            577.691860   \n",
            "std                     1.761616                0.63752            104.973929   \n",
            "min                     0.000000                0.00000            334.000000   \n",
            "25%                     1.000000                0.00000            500.000000   \n",
            "50%                     2.000000                0.00000            590.000000   \n",
            "75%                     3.000000                1.00000            649.000000   \n",
            "max                    10.000000                3.00000            848.000000   \n",
            "\n",
            "       indicador_roubo_rua  indicador_roubo_veic  registro_ocorrencias  \\\n",
            "count           344.000000            344.000000            248.000000   \n",
            "mean           4734.738372           2448.697674          53794.161290   \n",
            "std            3204.054864            789.689559          11039.051992   \n",
            "min            1086.000000           1097.000000          30621.000000   \n",
            "25%            1557.000000           1889.750000          45374.500000   \n",
            "50%            4190.000000           2322.000000          54926.500000   \n",
            "75%            6872.750000           2778.000000          63292.500000   \n",
            "max           13833.000000           5358.000000          75403.000000   \n",
            "\n",
            "             fase  \n",
            "count  344.000000  \n",
            "mean     2.994186  \n",
            "std      0.076138  \n",
            "min      2.000000  \n",
            "25%      3.000000  \n",
            "50%      3.000000  \n",
            "75%      3.000000  \n",
            "max      3.000000  \n"
          ],
          "name": "stdout"
        },
        {
          "output_type": "display_data",
          "data": {
            "text/plain": [
              "<Figure size 1224x720 with 0 Axes>"
            ]
          },
          "metadata": {
            "tags": []
          }
        }
      ]
    },
    {
      "cell_type": "markdown",
      "metadata": {
        "id": "ExLWZp0zBOyL"
      },
      "source": [
        "##Conclusão\n",
        "\n",
        "Finalizando a análise de dados do Rio de Janeiro durante o período de 2000 à 2019. E embora o RJ seja um dos lugares mais belos do mundo tendo umas das 7 maravilhas do mundo (Cristo Redentor) mas infelizmente, percebemos que, na maioria dos casos, houve uma crescente nos índices de criminalidade com o passar do tempo. \n",
        "\n",
        "Em compensação o número de ocorrências de Homicídios Culposo e Doloso não seguiram a mesma tendência, tendo diminuído ao longo dos anos. Porém ainda apresentam números assustadores. \n",
        "\n",
        "**Esse artigo representa uma análise estatística, um estudo baseado em Dados. \n",
        "Portanto, nenhum dos dados apresentados aqui leva em consideração opiniões pessoais ou posicionamento político.**"
      ]
    }
  ]
}